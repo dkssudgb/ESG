{
 "cells": [
  {
   "attachments": {},
   "cell_type": "markdown",
   "metadata": {},
   "source": [
    "# 라이브러리 로드"
   ]
  },
  {
   "cell_type": "code",
   "execution_count": 1,
   "metadata": {},
   "outputs": [
    {
     "name": "stderr",
     "output_type": "stream",
     "text": [
      "c:\\Users\\leehb\\anaconda3\\lib\\site-packages\\scipy\\__init__.py:146: UserWarning: A NumPy version >=1.16.5 and <1.23.0 is required for this version of SciPy (detected version 1.24.1\n",
      "  warnings.warn(f\"A NumPy version >={np_minversion} and <{np_maxversion}\"\n"
     ]
    }
   ],
   "source": [
    "import pandas as pd\n",
    "import numpy as np\n",
    "import matplotlib.pyplot as plt\n",
    "import seaborn as sns"
   ]
  },
  {
   "cell_type": "code",
   "execution_count": 2,
   "metadata": {},
   "outputs": [],
   "source": [
    "import koreanize_matplotlib\n",
    "%config InlineBackend.figure_format = 'retina'"
   ]
  },
  {
   "attachments": {},
   "cell_type": "markdown",
   "metadata": {},
   "source": [
    "# 데이터 불러오기"
   ]
  },
  {
   "cell_type": "code",
   "execution_count": 7,
   "metadata": {},
   "outputs": [
    {
     "data": {
      "text/html": [
       "<div>\n",
       "<style scoped>\n",
       "    .dataframe tbody tr th:only-of-type {\n",
       "        vertical-align: middle;\n",
       "    }\n",
       "\n",
       "    .dataframe tbody tr th {\n",
       "        vertical-align: top;\n",
       "    }\n",
       "\n",
       "    .dataframe thead th {\n",
       "        text-align: right;\n",
       "    }\n",
       "</style>\n",
       "<table border=\"1\" class=\"dataframe\">\n",
       "  <thead>\n",
       "    <tr style=\"text-align: right;\">\n",
       "      <th></th>\n",
       "      <th>종목코드</th>\n",
       "      <th>종목명</th>\n",
       "      <th>ESG등급</th>\n",
       "      <th>환경</th>\n",
       "      <th>사회</th>\n",
       "      <th>지배구조</th>\n",
       "      <th>평가년도</th>\n",
       "      <th>ESG등급_ca</th>\n",
       "      <th>환경_ca</th>\n",
       "      <th>사회_ca</th>\n",
       "      <th>지배구조_ca</th>\n",
       "    </tr>\n",
       "  </thead>\n",
       "  <tbody>\n",
       "    <tr>\n",
       "      <th>0</th>\n",
       "      <td>3640</td>\n",
       "      <td>유니온스틸</td>\n",
       "      <td>B이하</td>\n",
       "      <td>B</td>\n",
       "      <td>B이하</td>\n",
       "      <td>B+</td>\n",
       "      <td>2014.0</td>\n",
       "      <td>2.0</td>\n",
       "      <td>3.0</td>\n",
       "      <td>2.0</td>\n",
       "      <td>5.0</td>\n",
       "    </tr>\n",
       "    <tr>\n",
       "      <th>1</th>\n",
       "      <td>3640</td>\n",
       "      <td>유니온스틸</td>\n",
       "      <td>B이하</td>\n",
       "      <td>B</td>\n",
       "      <td>B이하</td>\n",
       "      <td>B이하</td>\n",
       "      <td>2013.0</td>\n",
       "      <td>2.0</td>\n",
       "      <td>3.0</td>\n",
       "      <td>2.0</td>\n",
       "      <td>2.0</td>\n",
       "    </tr>\n",
       "    <tr>\n",
       "      <th>2</th>\n",
       "      <td>3640</td>\n",
       "      <td>유니온스틸</td>\n",
       "      <td>B이하</td>\n",
       "      <td>B</td>\n",
       "      <td>B이하</td>\n",
       "      <td>B+</td>\n",
       "      <td>2012.0</td>\n",
       "      <td>2.0</td>\n",
       "      <td>3.0</td>\n",
       "      <td>2.0</td>\n",
       "      <td>5.0</td>\n",
       "    </tr>\n",
       "    <tr>\n",
       "      <th>3</th>\n",
       "      <td>3640</td>\n",
       "      <td>유니온스틸</td>\n",
       "      <td>NaN</td>\n",
       "      <td>C</td>\n",
       "      <td>NaN</td>\n",
       "      <td>B이하</td>\n",
       "      <td>2011.0</td>\n",
       "      <td>NaN</td>\n",
       "      <td>1.0</td>\n",
       "      <td>NaN</td>\n",
       "      <td>2.0</td>\n",
       "    </tr>\n",
       "    <tr>\n",
       "      <th>4</th>\n",
       "      <td>64420</td>\n",
       "      <td>케이피케미칼</td>\n",
       "      <td>A</td>\n",
       "      <td>B+</td>\n",
       "      <td>A</td>\n",
       "      <td>A</td>\n",
       "      <td>2012.0</td>\n",
       "      <td>6.0</td>\n",
       "      <td>5.0</td>\n",
       "      <td>6.0</td>\n",
       "      <td>6.0</td>\n",
       "    </tr>\n",
       "  </tbody>\n",
       "</table>\n",
       "</div>"
      ],
      "text/plain": [
       "    종목코드     종목명 ESG등급  환경   사회 지배구조    평가년도  ESG등급_ca  환경_ca  사회_ca  지배구조_ca\n",
       "0   3640   유니온스틸   B이하   B  B이하   B+  2014.0       2.0    3.0    2.0      5.0\n",
       "1   3640   유니온스틸   B이하   B  B이하  B이하  2013.0       2.0    3.0    2.0      2.0\n",
       "2   3640   유니온스틸   B이하   B  B이하   B+  2012.0       2.0    3.0    2.0      5.0\n",
       "3   3640   유니온스틸   NaN   C  NaN  B이하  2011.0       NaN    1.0    NaN      2.0\n",
       "4  64420  케이피케미칼     A  B+    A    A  2012.0       6.0    5.0    6.0      6.0"
      ]
     },
     "metadata": {},
     "output_type": "display_data"
    },
    {
     "data": {
      "text/html": [
       "<div>\n",
       "<style scoped>\n",
       "    .dataframe tbody tr th:only-of-type {\n",
       "        vertical-align: middle;\n",
       "    }\n",
       "\n",
       "    .dataframe tbody tr th {\n",
       "        vertical-align: top;\n",
       "    }\n",
       "\n",
       "    .dataframe thead th {\n",
       "        text-align: right;\n",
       "    }\n",
       "</style>\n",
       "<table border=\"1\" class=\"dataframe\">\n",
       "  <thead>\n",
       "    <tr style=\"text-align: right;\">\n",
       "      <th></th>\n",
       "      <th>종목코드</th>\n",
       "      <th>종목명</th>\n",
       "      <th>현재가</th>\n",
       "      <th>대비</th>\n",
       "      <th>등락률</th>\n",
       "      <th>거래대금(원)</th>\n",
       "      <th>상장시가총액(원)</th>\n",
       "    </tr>\n",
       "  </thead>\n",
       "  <tbody>\n",
       "    <tr>\n",
       "      <th>0</th>\n",
       "      <td>25850</td>\n",
       "      <td>KPX화인케미칼</td>\n",
       "      <td>17,900</td>\n",
       "      <td>50</td>\n",
       "      <td>0.28</td>\n",
       "      <td>72,956,900</td>\n",
       "      <td>68,020,000,000</td>\n",
       "    </tr>\n",
       "    <tr>\n",
       "      <th>1</th>\n",
       "      <td>71970</td>\n",
       "      <td>STX메탈</td>\n",
       "      <td>5,660</td>\n",
       "      <td>0</td>\n",
       "      <td>0.00</td>\n",
       "      <td>62,721,280</td>\n",
       "      <td>126,218,000,000</td>\n",
       "    </tr>\n",
       "    <tr>\n",
       "      <th>2</th>\n",
       "      <td>17900</td>\n",
       "      <td>광전자</td>\n",
       "      <td>3,195</td>\n",
       "      <td>-10</td>\n",
       "      <td>0.31</td>\n",
       "      <td>2,235,709,160</td>\n",
       "      <td>185,130,322,785</td>\n",
       "    </tr>\n",
       "    <tr>\n",
       "      <th>3</th>\n",
       "      <td>1210</td>\n",
       "      <td>금호전기</td>\n",
       "      <td>25,050</td>\n",
       "      <td>550</td>\n",
       "      <td>2.24</td>\n",
       "      <td>657,408,900</td>\n",
       "      <td>173,247,077,550</td>\n",
       "    </tr>\n",
       "    <tr>\n",
       "      <th>4</th>\n",
       "      <td>84010</td>\n",
       "      <td>대한제강</td>\n",
       "      <td>6,440</td>\n",
       "      <td>130</td>\n",
       "      <td>2.06</td>\n",
       "      <td>203,772,180</td>\n",
       "      <td>154,592,019,680</td>\n",
       "    </tr>\n",
       "  </tbody>\n",
       "</table>\n",
       "</div>"
      ],
      "text/plain": [
       "    종목코드       종목명     현재가   대비   등락률        거래대금(원)        상장시가총액(원)\n",
       "0  25850  KPX화인케미칼  17,900   50  0.28     72,956,900   68,020,000,000\n",
       "1  71970     STX메탈   5,660    0  0.00     62,721,280  126,218,000,000\n",
       "2  17900       광전자   3,195  -10  0.31  2,235,709,160  185,130,322,785\n",
       "3   1210      금호전기  25,050  550  2.24    657,408,900  173,247,077,550\n",
       "4  84010      대한제강   6,440  130  2.06    203,772,180  154,592,019,680"
      ]
     },
     "execution_count": 7,
     "metadata": {},
     "output_type": "execute_result"
    }
   ],
   "source": [
    "esg = pd.read_csv(\"../data/ESG_KOSPI200_ca.csv\")\n",
    "stock = pd.read_csv(\"../data/KOSPI_STOCK.csv\")\n",
    "\n",
    "display(esg.head())\n",
    "stock.head()"
   ]
  },
  {
   "cell_type": "code",
   "execution_count": 8,
   "metadata": {},
   "outputs": [
    {
     "name": "stdout",
     "output_type": "stream",
     "text": [
      "<class 'pandas.core.frame.DataFrame'>\n",
      "RangeIndex: 2224 entries, 0 to 2223\n",
      "Data columns (total 11 columns):\n",
      " #   Column    Non-Null Count  Dtype  \n",
      "---  ------    --------------  -----  \n",
      " 0   종목코드      2224 non-null   int64  \n",
      " 1   종목명       2224 non-null   object \n",
      " 2   ESG등급     2162 non-null   object \n",
      " 3   환경        2194 non-null   object \n",
      " 4   사회        2164 non-null   object \n",
      " 5   지배구조      2119 non-null   object \n",
      " 6   평가년도      2197 non-null   float64\n",
      " 7   ESG등급_ca  2162 non-null   float64\n",
      " 8   환경_ca     2194 non-null   float64\n",
      " 9   사회_ca     2164 non-null   float64\n",
      " 10  지배구조_ca   2119 non-null   float64\n",
      "dtypes: float64(5), int64(1), object(5)\n",
      "memory usage: 191.2+ KB\n"
     ]
    }
   ],
   "source": [
    "esg.info()"
   ]
  },
  {
   "cell_type": "code",
   "execution_count": 10,
   "metadata": {},
   "outputs": [
    {
     "name": "stdout",
     "output_type": "stream",
     "text": [
      "<class 'pandas.core.frame.DataFrame'>\n",
      "RangeIndex: 329 entries, 0 to 328\n",
      "Data columns (total 7 columns):\n",
      " #   Column     Non-Null Count  Dtype  \n",
      "---  ------     --------------  -----  \n",
      " 0   종목코드       329 non-null    int64  \n",
      " 1   종목명        329 non-null    object \n",
      " 2   현재가        329 non-null    object \n",
      " 3   대비         329 non-null    object \n",
      " 4   등락률        329 non-null    float64\n",
      " 5   거래대금(원)    329 non-null    object \n",
      " 6   상장시가총액(원)  329 non-null    object \n",
      "dtypes: float64(1), int64(1), object(5)\n",
      "memory usage: 18.1+ KB\n"
     ]
    }
   ],
   "source": [
    "stock.info()"
   ]
  },
  {
   "cell_type": "code",
   "execution_count": 16,
   "metadata": {},
   "outputs": [
    {
     "name": "stdout",
     "output_type": "stream",
     "text": [
      "종목코드          0\n",
      "종목명           0\n",
      "ESG등급        62\n",
      "환경           30\n",
      "사회           60\n",
      "지배구조        105\n",
      "평가년도         27\n",
      "ESG등급_ca     62\n",
      "환경_ca        30\n",
      "사회_ca        60\n",
      "지배구조_ca     105\n",
      "dtype: int64\n"
     ]
    },
    {
     "data": {
      "text/plain": [
       "종목코드         0\n",
       "종목명          0\n",
       "현재가          0\n",
       "대비           0\n",
       "등락률          0\n",
       "거래대금(원)      0\n",
       "상장시가총액(원)    0\n",
       "dtype: int64"
      ]
     },
     "execution_count": 16,
     "metadata": {},
     "output_type": "execute_result"
    }
   ],
   "source": [
    "print(esg.isnull().sum())\n",
    "stock.isnull().sum()"
   ]
  },
  {
   "attachments": {},
   "cell_type": "markdown",
   "metadata": {},
   "source": [
    "## 종목코드 6자리"
   ]
  },
  {
   "cell_type": "code",
   "execution_count": 12,
   "metadata": {},
   "outputs": [],
   "source": [
    "esg[\"종목코드\"] = esg[\"종목코드\"].apply(lambda  x : str(x).zfill(6))\n",
    "stock[\"종목코드\"] = stock[\"종목코드\"].apply(lambda  x : str(x).zfill(6))"
   ]
  },
  {
   "cell_type": "code",
   "execution_count": 13,
   "metadata": {},
   "outputs": [
    {
     "data": {
      "text/plain": [
       "0    003640\n",
       "1    003640\n",
       "2    003640\n",
       "3    003640\n",
       "4    064420\n",
       "Name: 종목코드, dtype: object"
      ]
     },
     "metadata": {},
     "output_type": "display_data"
    },
    {
     "data": {
      "text/plain": [
       "0    025850\n",
       "1    071970\n",
       "2    017900\n",
       "3    001210\n",
       "4    084010\n",
       "Name: 종목코드, dtype: object"
      ]
     },
     "metadata": {},
     "output_type": "display_data"
    }
   ],
   "source": [
    "display(esg[\"종목코드\"].head())\n",
    "display(stock[\"종목코드\"].head())"
   ]
  },
  {
   "attachments": {},
   "cell_type": "markdown",
   "metadata": {},
   "source": [
    "# 데이터 병합\n",
    "종목코드로 merge"
   ]
  },
  {
   "cell_type": "code",
   "execution_count": 21,
   "metadata": {},
   "outputs": [],
   "source": [
    "stock = stock.drop(columns=\"종목명\")"
   ]
  },
  {
   "cell_type": "code",
   "execution_count": 23,
   "metadata": {},
   "outputs": [],
   "source": [
    "df = pd.merge(esg, stock, how='left', on=\"종목코드\")"
   ]
  },
  {
   "cell_type": "code",
   "execution_count": 24,
   "metadata": {},
   "outputs": [
    {
     "data": {
      "text/html": [
       "<div>\n",
       "<style scoped>\n",
       "    .dataframe tbody tr th:only-of-type {\n",
       "        vertical-align: middle;\n",
       "    }\n",
       "\n",
       "    .dataframe tbody tr th {\n",
       "        vertical-align: top;\n",
       "    }\n",
       "\n",
       "    .dataframe thead th {\n",
       "        text-align: right;\n",
       "    }\n",
       "</style>\n",
       "<table border=\"1\" class=\"dataframe\">\n",
       "  <thead>\n",
       "    <tr style=\"text-align: right;\">\n",
       "      <th></th>\n",
       "      <th>종목코드</th>\n",
       "      <th>종목명</th>\n",
       "      <th>ESG등급</th>\n",
       "      <th>환경</th>\n",
       "      <th>사회</th>\n",
       "      <th>지배구조</th>\n",
       "      <th>평가년도</th>\n",
       "      <th>ESG등급_ca</th>\n",
       "      <th>환경_ca</th>\n",
       "      <th>사회_ca</th>\n",
       "      <th>지배구조_ca</th>\n",
       "      <th>현재가</th>\n",
       "      <th>대비</th>\n",
       "      <th>등락률</th>\n",
       "      <th>거래대금(원)</th>\n",
       "      <th>상장시가총액(원)</th>\n",
       "    </tr>\n",
       "  </thead>\n",
       "  <tbody>\n",
       "    <tr>\n",
       "      <th>0</th>\n",
       "      <td>003640</td>\n",
       "      <td>유니온스틸</td>\n",
       "      <td>B이하</td>\n",
       "      <td>B</td>\n",
       "      <td>B이하</td>\n",
       "      <td>B+</td>\n",
       "      <td>2014.0</td>\n",
       "      <td>2.0</td>\n",
       "      <td>3.0</td>\n",
       "      <td>2.0</td>\n",
       "      <td>5.0</td>\n",
       "      <td>16,100</td>\n",
       "      <td>-50</td>\n",
       "      <td>0.31</td>\n",
       "      <td>11,414,500</td>\n",
       "      <td>165,186,000,000</td>\n",
       "    </tr>\n",
       "    <tr>\n",
       "      <th>1</th>\n",
       "      <td>003640</td>\n",
       "      <td>유니온스틸</td>\n",
       "      <td>B이하</td>\n",
       "      <td>B</td>\n",
       "      <td>B이하</td>\n",
       "      <td>B이하</td>\n",
       "      <td>2013.0</td>\n",
       "      <td>2.0</td>\n",
       "      <td>3.0</td>\n",
       "      <td>2.0</td>\n",
       "      <td>2.0</td>\n",
       "      <td>16,100</td>\n",
       "      <td>-50</td>\n",
       "      <td>0.31</td>\n",
       "      <td>11,414,500</td>\n",
       "      <td>165,186,000,000</td>\n",
       "    </tr>\n",
       "    <tr>\n",
       "      <th>2</th>\n",
       "      <td>003640</td>\n",
       "      <td>유니온스틸</td>\n",
       "      <td>B이하</td>\n",
       "      <td>B</td>\n",
       "      <td>B이하</td>\n",
       "      <td>B+</td>\n",
       "      <td>2012.0</td>\n",
       "      <td>2.0</td>\n",
       "      <td>3.0</td>\n",
       "      <td>2.0</td>\n",
       "      <td>5.0</td>\n",
       "      <td>16,100</td>\n",
       "      <td>-50</td>\n",
       "      <td>0.31</td>\n",
       "      <td>11,414,500</td>\n",
       "      <td>165,186,000,000</td>\n",
       "    </tr>\n",
       "    <tr>\n",
       "      <th>3</th>\n",
       "      <td>003640</td>\n",
       "      <td>유니온스틸</td>\n",
       "      <td>NaN</td>\n",
       "      <td>C</td>\n",
       "      <td>NaN</td>\n",
       "      <td>B이하</td>\n",
       "      <td>2011.0</td>\n",
       "      <td>NaN</td>\n",
       "      <td>1.0</td>\n",
       "      <td>NaN</td>\n",
       "      <td>2.0</td>\n",
       "      <td>16,100</td>\n",
       "      <td>-50</td>\n",
       "      <td>0.31</td>\n",
       "      <td>11,414,500</td>\n",
       "      <td>165,186,000,000</td>\n",
       "    </tr>\n",
       "    <tr>\n",
       "      <th>4</th>\n",
       "      <td>064420</td>\n",
       "      <td>케이피케미칼</td>\n",
       "      <td>A</td>\n",
       "      <td>B+</td>\n",
       "      <td>A</td>\n",
       "      <td>A</td>\n",
       "      <td>2012.0</td>\n",
       "      <td>6.0</td>\n",
       "      <td>5.0</td>\n",
       "      <td>6.0</td>\n",
       "      <td>6.0</td>\n",
       "      <td>14,150</td>\n",
       "      <td>50</td>\n",
       "      <td>0.35</td>\n",
       "      <td>8,474,080,650</td>\n",
       "      <td>1,391,479,615,300</td>\n",
       "    </tr>\n",
       "  </tbody>\n",
       "</table>\n",
       "</div>"
      ],
      "text/plain": [
       "     종목코드     종목명 ESG등급  환경   사회 지배구조    평가년도  ESG등급_ca  환경_ca  사회_ca  \\\n",
       "0  003640   유니온스틸   B이하   B  B이하   B+  2014.0       2.0    3.0    2.0   \n",
       "1  003640   유니온스틸   B이하   B  B이하  B이하  2013.0       2.0    3.0    2.0   \n",
       "2  003640   유니온스틸   B이하   B  B이하   B+  2012.0       2.0    3.0    2.0   \n",
       "3  003640   유니온스틸   NaN   C  NaN  B이하  2011.0       NaN    1.0    NaN   \n",
       "4  064420  케이피케미칼     A  B+    A    A  2012.0       6.0    5.0    6.0   \n",
       "\n",
       "   지배구조_ca     현재가   대비   등락률        거래대금(원)          상장시가총액(원)  \n",
       "0      5.0  16,100  -50  0.31     11,414,500    165,186,000,000  \n",
       "1      2.0  16,100  -50  0.31     11,414,500    165,186,000,000  \n",
       "2      5.0  16,100  -50  0.31     11,414,500    165,186,000,000  \n",
       "3      2.0  16,100  -50  0.31     11,414,500    165,186,000,000  \n",
       "4      6.0  14,150   50  0.35  8,474,080,650  1,391,479,615,300  "
      ]
     },
     "execution_count": 24,
     "metadata": {},
     "output_type": "execute_result"
    }
   ],
   "source": [
    "df.head()"
   ]
  },
  {
   "attachments": {},
   "cell_type": "markdown",
   "metadata": {},
   "source": [
    "# 파일로 저장"
   ]
  },
  {
   "cell_type": "code",
   "execution_count": 27,
   "metadata": {},
   "outputs": [],
   "source": [
    "df.to_csv(\"../data/ESG_STOCK_MERGE.csv\", index=None)"
   ]
  },
  {
   "cell_type": "code",
   "execution_count": 28,
   "metadata": {},
   "outputs": [
    {
     "data": {
      "text/html": [
       "<div>\n",
       "<style scoped>\n",
       "    .dataframe tbody tr th:only-of-type {\n",
       "        vertical-align: middle;\n",
       "    }\n",
       "\n",
       "    .dataframe tbody tr th {\n",
       "        vertical-align: top;\n",
       "    }\n",
       "\n",
       "    .dataframe thead th {\n",
       "        text-align: right;\n",
       "    }\n",
       "</style>\n",
       "<table border=\"1\" class=\"dataframe\">\n",
       "  <thead>\n",
       "    <tr style=\"text-align: right;\">\n",
       "      <th></th>\n",
       "      <th>종목코드</th>\n",
       "      <th>종목명</th>\n",
       "      <th>ESG등급</th>\n",
       "      <th>환경</th>\n",
       "      <th>사회</th>\n",
       "      <th>지배구조</th>\n",
       "      <th>평가년도</th>\n",
       "      <th>ESG등급_ca</th>\n",
       "      <th>환경_ca</th>\n",
       "      <th>사회_ca</th>\n",
       "      <th>지배구조_ca</th>\n",
       "      <th>현재가</th>\n",
       "      <th>대비</th>\n",
       "      <th>등락률</th>\n",
       "      <th>거래대금(원)</th>\n",
       "      <th>상장시가총액(원)</th>\n",
       "    </tr>\n",
       "  </thead>\n",
       "  <tbody>\n",
       "    <tr>\n",
       "      <th>0</th>\n",
       "      <td>3640</td>\n",
       "      <td>유니온스틸</td>\n",
       "      <td>B이하</td>\n",
       "      <td>B</td>\n",
       "      <td>B이하</td>\n",
       "      <td>B+</td>\n",
       "      <td>2014.0</td>\n",
       "      <td>2.0</td>\n",
       "      <td>3.0</td>\n",
       "      <td>2.0</td>\n",
       "      <td>5.0</td>\n",
       "      <td>16,100</td>\n",
       "      <td>-50</td>\n",
       "      <td>0.31</td>\n",
       "      <td>11,414,500</td>\n",
       "      <td>165,186,000,000</td>\n",
       "    </tr>\n",
       "    <tr>\n",
       "      <th>1</th>\n",
       "      <td>3640</td>\n",
       "      <td>유니온스틸</td>\n",
       "      <td>B이하</td>\n",
       "      <td>B</td>\n",
       "      <td>B이하</td>\n",
       "      <td>B이하</td>\n",
       "      <td>2013.0</td>\n",
       "      <td>2.0</td>\n",
       "      <td>3.0</td>\n",
       "      <td>2.0</td>\n",
       "      <td>2.0</td>\n",
       "      <td>16,100</td>\n",
       "      <td>-50</td>\n",
       "      <td>0.31</td>\n",
       "      <td>11,414,500</td>\n",
       "      <td>165,186,000,000</td>\n",
       "    </tr>\n",
       "    <tr>\n",
       "      <th>2</th>\n",
       "      <td>3640</td>\n",
       "      <td>유니온스틸</td>\n",
       "      <td>B이하</td>\n",
       "      <td>B</td>\n",
       "      <td>B이하</td>\n",
       "      <td>B+</td>\n",
       "      <td>2012.0</td>\n",
       "      <td>2.0</td>\n",
       "      <td>3.0</td>\n",
       "      <td>2.0</td>\n",
       "      <td>5.0</td>\n",
       "      <td>16,100</td>\n",
       "      <td>-50</td>\n",
       "      <td>0.31</td>\n",
       "      <td>11,414,500</td>\n",
       "      <td>165,186,000,000</td>\n",
       "    </tr>\n",
       "    <tr>\n",
       "      <th>3</th>\n",
       "      <td>3640</td>\n",
       "      <td>유니온스틸</td>\n",
       "      <td>NaN</td>\n",
       "      <td>C</td>\n",
       "      <td>NaN</td>\n",
       "      <td>B이하</td>\n",
       "      <td>2011.0</td>\n",
       "      <td>NaN</td>\n",
       "      <td>1.0</td>\n",
       "      <td>NaN</td>\n",
       "      <td>2.0</td>\n",
       "      <td>16,100</td>\n",
       "      <td>-50</td>\n",
       "      <td>0.31</td>\n",
       "      <td>11,414,500</td>\n",
       "      <td>165,186,000,000</td>\n",
       "    </tr>\n",
       "    <tr>\n",
       "      <th>4</th>\n",
       "      <td>64420</td>\n",
       "      <td>케이피케미칼</td>\n",
       "      <td>A</td>\n",
       "      <td>B+</td>\n",
       "      <td>A</td>\n",
       "      <td>A</td>\n",
       "      <td>2012.0</td>\n",
       "      <td>6.0</td>\n",
       "      <td>5.0</td>\n",
       "      <td>6.0</td>\n",
       "      <td>6.0</td>\n",
       "      <td>14,150</td>\n",
       "      <td>50</td>\n",
       "      <td>0.35</td>\n",
       "      <td>8,474,080,650</td>\n",
       "      <td>1,391,479,615,300</td>\n",
       "    </tr>\n",
       "  </tbody>\n",
       "</table>\n",
       "</div>"
      ],
      "text/plain": [
       "    종목코드     종목명 ESG등급  환경   사회 지배구조    평가년도  ESG등급_ca  환경_ca  사회_ca  지배구조_ca  \\\n",
       "0   3640   유니온스틸   B이하   B  B이하   B+  2014.0       2.0    3.0    2.0      5.0   \n",
       "1   3640   유니온스틸   B이하   B  B이하  B이하  2013.0       2.0    3.0    2.0      2.0   \n",
       "2   3640   유니온스틸   B이하   B  B이하   B+  2012.0       2.0    3.0    2.0      5.0   \n",
       "3   3640   유니온스틸   NaN   C  NaN  B이하  2011.0       NaN    1.0    NaN      2.0   \n",
       "4  64420  케이피케미칼     A  B+    A    A  2012.0       6.0    5.0    6.0      6.0   \n",
       "\n",
       "      현재가   대비   등락률        거래대금(원)          상장시가총액(원)  \n",
       "0  16,100  -50  0.31     11,414,500    165,186,000,000  \n",
       "1  16,100  -50  0.31     11,414,500    165,186,000,000  \n",
       "2  16,100  -50  0.31     11,414,500    165,186,000,000  \n",
       "3  16,100  -50  0.31     11,414,500    165,186,000,000  \n",
       "4  14,150   50  0.35  8,474,080,650  1,391,479,615,300  "
      ]
     },
     "execution_count": 28,
     "metadata": {},
     "output_type": "execute_result"
    }
   ],
   "source": [
    "# 저장 확인\n",
    "pd.read_csv(\"../data/ESG_STOCK_MERGE.csv\").head()"
   ]
  },
  {
   "cell_type": "code",
   "execution_count": null,
   "metadata": {},
   "outputs": [],
   "source": []
  },
  {
   "cell_type": "code",
   "execution_count": null,
   "metadata": {},
   "outputs": [],
   "source": []
  }
 ],
 "metadata": {
  "kernelspec": {
   "display_name": "asd",
   "language": "python",
   "name": "python3"
  },
  "language_info": {
   "codemirror_mode": {
    "name": "ipython",
    "version": 3
   },
   "file_extension": ".py",
   "mimetype": "text/x-python",
   "name": "python",
   "nbconvert_exporter": "python",
   "pygments_lexer": "ipython3",
   "version": "3.9.15"
  },
  "orig_nbformat": 4,
  "vscode": {
   "interpreter": {
    "hash": "1484e195d7bc9430bc3da72ea3c1b8c4a4682e4fe56bdbad8b3e1217f2a75f76"
   }
  }
 },
 "nbformat": 4,
 "nbformat_minor": 2
}
